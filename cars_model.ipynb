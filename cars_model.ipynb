{
 "cells": [
  {
   "cell_type": "markdown",
   "metadata": {},
   "source": [
    "### Create a simple h2o cars price model\n",
    "\n",
    "Model based on scraped gaspedaal data"
   ]
  },
  {
   "cell_type": "code",
   "execution_count": 16,
   "metadata": {},
   "outputs": [],
   "source": [
    "import pandas as pd\n",
    "import h2o\n",
    "from h2o.automl import H2OAutoML"
   ]
  },
  {
   "cell_type": "markdown",
   "metadata": {},
   "source": [
    "### import csv file"
   ]
  },
  {
   "cell_type": "code",
   "execution_count": 25,
   "metadata": {},
   "outputs": [],
   "source": [
    "cars = pd.read_csv(\"cars.csv\")\n",
    "cars = (\n",
    "    cars\n",
    "    .assign(ouderdom = 2016 - cars.bouwjaar + 1)\n",
    ")"
   ]
  },
  {
   "cell_type": "markdown",
   "metadata": {},
   "source": [
    "### start h2o and upload"
   ]
  },
  {
   "cell_type": "code",
   "execution_count": 3,
   "metadata": {},
   "outputs": [
    {
     "output_type": "stream",
     "name": "stdout",
     "text": "Checking whether there is an H2O instance running at http://localhost:54321..... not found.\nAttempting to start a local H2O server...\n  Java Version: openjdk version \"13.0.1\" 2019-10-15; OpenJDK Runtime Environment (build 13.0.1+9); OpenJDK 64-Bit Server VM (build 13.0.1+9, mixed mode, sharing)\n  Starting server from /Users/lamlon/anaconda3/lib/python3.7/site-packages/h2o/backend/bin/h2o.jar\n  Ice root: /var/folders/y6/jrqktfnx2dxdcryrpygdr2s9rt72yb/T/tmptt0666vi\n  JVM stdout: /var/folders/y6/jrqktfnx2dxdcryrpygdr2s9rt72yb/T/tmptt0666vi/h2o_lamlon_started_from_python.out\n  JVM stderr: /var/folders/y6/jrqktfnx2dxdcryrpygdr2s9rt72yb/T/tmptt0666vi/h2o_lamlon_started_from_python.err\n  Server is running at http://127.0.0.1:54321\nConnecting to H2O server at http://127.0.0.1:54321 ... successful.\n"
    },
    {
     "output_type": "display_data",
     "data": {
      "text/plain": "--------------------------  ------------------------------------------------------------------\nH2O_cluster_uptime:         02 secs\nH2O_cluster_timezone:       Europe/Amsterdam\nH2O_data_parsing_timezone:  UTC\nH2O_cluster_version:        3.30.0.1\nH2O_cluster_version_age:    23 days\nH2O_cluster_name:           H2O_from_python_lamlon_yujkcv\nH2O_cluster_total_nodes:    1\nH2O_cluster_free_memory:    4 Gb\nH2O_cluster_total_cores:    8\nH2O_cluster_allowed_cores:  8\nH2O_cluster_status:         accepting new members, healthy\nH2O_connection_url:         http://127.0.0.1:54321\nH2O_connection_proxy:       {\"http\": null, \"https\": null}\nH2O_internal_security:      False\nH2O_API_Extensions:         Amazon S3, XGBoost, Algos, AutoML, Core V3, TargetEncoder, Core V4\nPython_version:             3.7.3 final\n--------------------------  ------------------------------------------------------------------",
      "text/html": "<div style=\"overflow:auto\"><table style=\"width:50%\"><tr><td>H2O_cluster_uptime:</td>\n<td>02 secs</td></tr>\n<tr><td>H2O_cluster_timezone:</td>\n<td>Europe/Amsterdam</td></tr>\n<tr><td>H2O_data_parsing_timezone:</td>\n<td>UTC</td></tr>\n<tr><td>H2O_cluster_version:</td>\n<td>3.30.0.1</td></tr>\n<tr><td>H2O_cluster_version_age:</td>\n<td>23 days </td></tr>\n<tr><td>H2O_cluster_name:</td>\n<td>H2O_from_python_lamlon_yujkcv</td></tr>\n<tr><td>H2O_cluster_total_nodes:</td>\n<td>1</td></tr>\n<tr><td>H2O_cluster_free_memory:</td>\n<td>4 Gb</td></tr>\n<tr><td>H2O_cluster_total_cores:</td>\n<td>8</td></tr>\n<tr><td>H2O_cluster_allowed_cores:</td>\n<td>8</td></tr>\n<tr><td>H2O_cluster_status:</td>\n<td>accepting new members, healthy</td></tr>\n<tr><td>H2O_connection_url:</td>\n<td>http://127.0.0.1:54321</td></tr>\n<tr><td>H2O_connection_proxy:</td>\n<td>{\"http\": null, \"https\": null}</td></tr>\n<tr><td>H2O_internal_security:</td>\n<td>False</td></tr>\n<tr><td>H2O_API_Extensions:</td>\n<td>Amazon S3, XGBoost, Algos, AutoML, Core V3, TargetEncoder, Core V4</td></tr>\n<tr><td>Python_version:</td>\n<td>3.7.3 final</td></tr></table></div>"
     },
     "metadata": {}
    }
   ],
   "source": [
    "h2o.init()"
   ]
  },
  {
   "cell_type": "code",
   "execution_count": 27,
   "metadata": {},
   "outputs": [
    {
     "output_type": "stream",
     "name": "stdout",
     "text": "Parse progress: |█████████████████████████████████████████████████████████| 100%\n"
    }
   ],
   "source": [
    "carsh = h2o.H2OFrame(cars)"
   ]
  },
  {
   "cell_type": "code",
   "execution_count": 28,
   "metadata": {},
   "outputs": [],
   "source": [
    "train, test = carsh.split_frame()"
   ]
  },
  {
   "cell_type": "code",
   "execution_count": 29,
   "metadata": {},
   "outputs": [
    {
     "output_type": "display_data",
     "data": {
      "text/html": "<table>\n<thead>\n<tr><th style=\"text-align: right;\">   KM</th><th style=\"text-align: right;\">  bouwjaar</th><th style=\"text-align: right;\">  Prijs</th><th>Transmissie   </th><th>Merk      </th><th>Model  </th><th style=\"text-align: right;\">  Motor</th><th>Brandstof  </th><th style=\"text-align: right;\">  ouderdom</th></tr>\n</thead>\n<tbody>\n<tr><td style=\"text-align: right;\">12865</td><td style=\"text-align: right;\">      2013</td><td style=\"text-align: right;\">   7250</td><td>Handgeschakeld</td><td>Peugeot   </td><td>107    </td><td style=\"text-align: right;\">    998</td><td>Benzine    </td><td style=\"text-align: right;\">         4</td></tr>\n<tr><td style=\"text-align: right;\"> 4620</td><td style=\"text-align: right;\">      2016</td><td style=\"text-align: right;\">  11339</td><td>Handgeschakeld</td><td>Peugeot   </td><td>108    </td><td style=\"text-align: right;\">    998</td><td>Benzine    </td><td style=\"text-align: right;\">         1</td></tr>\n<tr><td style=\"text-align: right;\"> 1270</td><td style=\"text-align: right;\">      2016</td><td style=\"text-align: right;\">  14368</td><td>Automaat      </td><td>Mitsubishi</td><td>Space  </td><td style=\"text-align: right;\">    999</td><td>Benzine    </td><td style=\"text-align: right;\">         1</td></tr>\n<tr><td style=\"text-align: right;\">  198</td><td style=\"text-align: right;\">      2003</td><td style=\"text-align: right;\">   1275</td><td>Handgeschakeld</td><td>Ford      </td><td>Focus  </td><td style=\"text-align: right;\">   1388</td><td>Benzine    </td><td style=\"text-align: right;\">        14</td></tr>\n<tr><td style=\"text-align: right;\">  451</td><td style=\"text-align: right;\">      2016</td><td style=\"text-align: right;\">  17144</td><td>Handgeschakeld</td><td>Ford      </td><td>Fiesta </td><td style=\"text-align: right;\">   1499</td><td>Diesel     </td><td style=\"text-align: right;\">         1</td></tr>\n</tbody>\n</table>"
     },
     "metadata": {}
    },
    {
     "output_type": "execute_result",
     "data": {
      "text/plain": ""
     },
     "metadata": {},
     "execution_count": 29
    }
   ],
   "source": [
    "train.head(5)"
   ]
  },
  {
   "cell_type": "markdown",
   "metadata": {},
   "source": [
    "### Just lazy, turn on autoML"
   ]
  },
  {
   "cell_type": "code",
   "execution_count": 17,
   "metadata": {},
   "outputs": [],
   "source": [
    "aml = H2OAutoML(max_runtime_secs = 30)"
   ]
  },
  {
   "cell_type": "code",
   "execution_count": 30,
   "metadata": {},
   "outputs": [
    {
     "output_type": "stream",
     "name": "stdout",
     "text": "AutoML progress: |\n21:17:48.836: User specified a validation frame with cross-validation still enabled. Please note that the models will still be validated using cross-validation only, the validation frame will be used to provide purely informative validation metrics on the trained models.\n\n████████████████████████████████████████████████████████| 100%\n"
    }
   ],
   "source": [
    "aml.train(\n",
    "    y = \"Prijs\",\n",
    "    x = [\"ouderdom\", \"KM\"],\n",
    "    training_frame = train,\n",
    "    validation_frame = test\n",
    ")"
   ]
  },
  {
   "cell_type": "code",
   "execution_count": 31,
   "metadata": {},
   "outputs": [
    {
     "output_type": "display_data",
     "data": {
      "text/html": "<table>\n<thead>\n<tr><th>model_id                                           </th><th style=\"text-align: right;\">  mean_residual_deviance</th><th style=\"text-align: right;\">   rmse</th><th style=\"text-align: right;\">        mse</th><th style=\"text-align: right;\">     mae</th><th style=\"text-align: right;\">   rmsle</th></tr>\n</thead>\n<tbody>\n<tr><td>StackedEnsemble_AllModels_AutoML_20200426_211748   </td><td style=\"text-align: right;\">             4.29592e+08</td><td style=\"text-align: right;\">20726.6</td><td style=\"text-align: right;\">4.29592e+08</td><td style=\"text-align: right;\"> 8187.04</td><td style=\"text-align: right;\">0.70583 </td></tr>\n<tr><td>StackedEnsemble_BestOfFamily_AutoML_20200426_211748</td><td style=\"text-align: right;\">             4.32323e+08</td><td style=\"text-align: right;\">20792.4</td><td style=\"text-align: right;\">4.32323e+08</td><td style=\"text-align: right;\"> 8172.25</td><td style=\"text-align: right;\">0.706208</td></tr>\n<tr><td>GBM_2_AutoML_20200426_211748                       </td><td style=\"text-align: right;\">             5.28505e+08</td><td style=\"text-align: right;\">22989.2</td><td style=\"text-align: right;\">5.28505e+08</td><td style=\"text-align: right;\">11399.2 </td><td style=\"text-align: right;\">1.18106 </td></tr>\n<tr><td>GBM_5_AutoML_20200426_211748                       </td><td style=\"text-align: right;\">             5.32042e+08</td><td style=\"text-align: right;\">23066  </td><td style=\"text-align: right;\">5.32042e+08</td><td style=\"text-align: right;\">11499.9 </td><td style=\"text-align: right;\">1.18864 </td></tr>\n<tr><td>GBM_3_AutoML_20200426_211748                       </td><td style=\"text-align: right;\">             5.32106e+08</td><td style=\"text-align: right;\">23067.4</td><td style=\"text-align: right;\">5.32106e+08</td><td style=\"text-align: right;\">11502.4 </td><td style=\"text-align: right;\">1.18881 </td></tr>\n<tr><td>GBM_1_AutoML_20200426_211748                       </td><td style=\"text-align: right;\">             5.32108e+08</td><td style=\"text-align: right;\">23067.5</td><td style=\"text-align: right;\">5.32108e+08</td><td style=\"text-align: right;\">11500.1 </td><td style=\"text-align: right;\">1.18873 </td></tr>\n<tr><td>GBM_4_AutoML_20200426_211748                       </td><td style=\"text-align: right;\">             5.34682e+08</td><td style=\"text-align: right;\">23123.2</td><td style=\"text-align: right;\">5.34682e+08</td><td style=\"text-align: right;\">11605.7 </td><td style=\"text-align: right;\">1.19686 </td></tr>\n<tr><td>GLM_1_AutoML_20200426_211748                       </td><td style=\"text-align: right;\">             5.54333e+08</td><td style=\"text-align: right;\">23544.3</td><td style=\"text-align: right;\">5.54333e+08</td><td style=\"text-align: right;\">12126.9 </td><td style=\"text-align: right;\">1.23311 </td></tr>\n<tr><td>DRF_1_AutoML_20200426_211748                       </td><td style=\"text-align: right;\">             6.21854e+08</td><td style=\"text-align: right;\">24937  </td><td style=\"text-align: right;\">6.21854e+08</td><td style=\"text-align: right;\"> 8527.11</td><td style=\"text-align: right;\">0.713852</td></tr>\n<tr><td>XGBoost_1_AutoML_20200426_211748                   </td><td style=\"text-align: right;\">             6.24978e+08</td><td style=\"text-align: right;\">24999.6</td><td style=\"text-align: right;\">6.24978e+08</td><td style=\"text-align: right;\">11493.8 </td><td style=\"text-align: right;\">1.14258 </td></tr>\n</tbody>\n</table>"
     },
     "metadata": {}
    },
    {
     "output_type": "execute_result",
     "data": {
      "text/plain": ""
     },
     "metadata": {},
     "execution_count": 31
    }
   ],
   "source": [
    "aml.leaderboard"
   ]
  },
  {
   "cell_type": "code",
   "execution_count": 32,
   "metadata": {},
   "outputs": [],
   "source": [
    "perf = aml.leader.model_performance(test)"
   ]
  },
  {
   "cell_type": "code",
   "execution_count": 33,
   "metadata": {},
   "outputs": [
    {
     "output_type": "stream",
     "name": "stdout",
     "text": "\nModelMetricsRegressionGLM: stackedensemble\n** Reported on test data. **\n\nMSE: 495401577.72121614\nRMSE: 22257.618419795414\nMAE: 8321.435026980478\nRMSLE: 0.7082577129686142\nR^2: 0.2092245177908143\nMean Residual Deviance: 495401577.72121614\nNull degrees of freedom: 108969\nResidual degrees of freedom: 108960\nNull deviance: 68269864677839.06\nResidual deviance: 53983909924280.92\nAIC: 2490940.676862295\n"
    },
    {
     "output_type": "execute_result",
     "data": {
      "text/plain": ""
     },
     "metadata": {},
     "execution_count": 33
    }
   ],
   "source": [
    "perf"
   ]
  },
  {
   "cell_type": "code",
   "execution_count": 36,
   "metadata": {},
   "outputs": [],
   "source": [
    "#### dump model to mojo\n",
    "modelpath = h2o.save_model(aml.leader, path=\"\", force= True)"
   ]
  },
  {
   "cell_type": "code",
   "execution_count": 37,
   "metadata": {},
   "outputs": [
    {
     "output_type": "execute_result",
     "data": {
      "text/plain": "'/Users/lamlon/Documents/Personal/Projects/cars_model/StackedEnsemble_AllModels_AutoML_20200426_211748'"
     },
     "metadata": {},
     "execution_count": 37
    }
   ],
   "source": [
    "modelpath"
   ]
  },
  {
   "cell_type": "code",
   "execution_count": null,
   "metadata": {},
   "outputs": [],
   "source": []
  }
 ],
 "metadata": {
  "language_info": {
   "codemirror_mode": {
    "name": "ipython",
    "version": 3
   },
   "file_extension": ".py",
   "mimetype": "text/x-python",
   "name": "python",
   "nbconvert_exporter": "python",
   "pygments_lexer": "ipython3",
   "version": "3.7.3-final"
  },
  "orig_nbformat": 2,
  "kernelspec": {
   "name": "python37364bitbaseconda237d47ed00c34faa8bb5ab0c5c219e3a",
   "display_name": "Python 3.7.3 64-bit ('base': conda)"
  }
 },
 "nbformat": 4,
 "nbformat_minor": 2
}