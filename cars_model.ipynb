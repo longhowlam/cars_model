{
 "cells": [
  {
   "cell_type": "markdown",
   "metadata": {},
   "source": [
    "### Create a simple h2o cars price model\n",
    "\n",
    "Model based on scraped gaspedaal data"
   ]
  },
  {
   "cell_type": "code",
   "execution_count": 16,
   "metadata": {},
   "outputs": [],
   "source": [
    "import pandas as pd\n",
    "import h2o\n",
    "from h2o.automl import H2OAutoML"
   ]
  },
  {
   "cell_type": "markdown",
   "metadata": {},
   "source": [
    "### import csv file"
   ]
  },
  {
   "cell_type": "code",
   "execution_count": 25,
   "metadata": {},
   "outputs": [],
   "source": [
    "cars = pd.read_csv(\"cars.csv\")\n",
    "cars = (\n",
    "    cars\n",
    "    .assign(ouderdom = 2016 - cars.bouwjaar + 1)\n",
    ")"
   ]
  },
  {
   "cell_type": "markdown",
   "metadata": {},
   "source": [
    "### start h2o and upload"
   ]
  },
  {
   "cell_type": "code",
   "execution_count": 43,
   "metadata": {},
   "outputs": [
    {
     "output_type": "stream",
     "name": "stdout",
     "text": "Checking whether there is an H2O instance running at http://localhost:54321..... not found.\nAttempting to start a local H2O server...\n  Java Version: openjdk version \"13.0.1\" 2019-10-15; OpenJDK Runtime Environment (build 13.0.1+9); OpenJDK 64-Bit Server VM (build 13.0.1+9, mixed mode, sharing)\n  Starting server from /Users/lamlon/anaconda3/lib/python3.7/site-packages/h2o/backend/bin/h2o.jar\n  Ice root: /var/folders/y6/jrqktfnx2dxdcryrpygdr2s9rt72yb/T/tmpcv2rj9zn\n  JVM stdout: /var/folders/y6/jrqktfnx2dxdcryrpygdr2s9rt72yb/T/tmpcv2rj9zn/h2o_lamlon_started_from_python.out\n  JVM stderr: /var/folders/y6/jrqktfnx2dxdcryrpygdr2s9rt72yb/T/tmpcv2rj9zn/h2o_lamlon_started_from_python.err\n  Server is running at http://127.0.0.1:54321\nConnecting to H2O server at http://127.0.0.1:54321 ... successful.\n"
    },
    {
     "output_type": "display_data",
     "data": {
      "text/plain": "--------------------------  ------------------------------------------------------------------\nH2O_cluster_uptime:         02 secs\nH2O_cluster_timezone:       Europe/Amsterdam\nH2O_data_parsing_timezone:  UTC\nH2O_cluster_version:        3.30.0.1\nH2O_cluster_version_age:    23 days\nH2O_cluster_name:           H2O_from_python_lamlon_hlsyk8\nH2O_cluster_total_nodes:    1\nH2O_cluster_free_memory:    4 Gb\nH2O_cluster_total_cores:    8\nH2O_cluster_allowed_cores:  8\nH2O_cluster_status:         accepting new members, healthy\nH2O_connection_url:         http://127.0.0.1:54321\nH2O_connection_proxy:       {\"http\": null, \"https\": null}\nH2O_internal_security:      False\nH2O_API_Extensions:         Amazon S3, XGBoost, Algos, AutoML, Core V3, TargetEncoder, Core V4\nPython_version:             3.7.3 final\n--------------------------  ------------------------------------------------------------------",
      "text/html": "<div style=\"overflow:auto\"><table style=\"width:50%\"><tr><td>H2O_cluster_uptime:</td>\n<td>02 secs</td></tr>\n<tr><td>H2O_cluster_timezone:</td>\n<td>Europe/Amsterdam</td></tr>\n<tr><td>H2O_data_parsing_timezone:</td>\n<td>UTC</td></tr>\n<tr><td>H2O_cluster_version:</td>\n<td>3.30.0.1</td></tr>\n<tr><td>H2O_cluster_version_age:</td>\n<td>23 days </td></tr>\n<tr><td>H2O_cluster_name:</td>\n<td>H2O_from_python_lamlon_hlsyk8</td></tr>\n<tr><td>H2O_cluster_total_nodes:</td>\n<td>1</td></tr>\n<tr><td>H2O_cluster_free_memory:</td>\n<td>4 Gb</td></tr>\n<tr><td>H2O_cluster_total_cores:</td>\n<td>8</td></tr>\n<tr><td>H2O_cluster_allowed_cores:</td>\n<td>8</td></tr>\n<tr><td>H2O_cluster_status:</td>\n<td>accepting new members, healthy</td></tr>\n<tr><td>H2O_connection_url:</td>\n<td>http://127.0.0.1:54321</td></tr>\n<tr><td>H2O_connection_proxy:</td>\n<td>{\"http\": null, \"https\": null}</td></tr>\n<tr><td>H2O_internal_security:</td>\n<td>False</td></tr>\n<tr><td>H2O_API_Extensions:</td>\n<td>Amazon S3, XGBoost, Algos, AutoML, Core V3, TargetEncoder, Core V4</td></tr>\n<tr><td>Python_version:</td>\n<td>3.7.3 final</td></tr></table></div>"
     },
     "metadata": {}
    }
   ],
   "source": [
    "h2o.init()"
   ]
  },
  {
   "cell_type": "code",
   "execution_count": 44,
   "metadata": {},
   "outputs": [
    {
     "output_type": "stream",
     "name": "stdout",
     "text": "Parse progress: |█████████████████████████████████████████████████████████| 100%\n"
    }
   ],
   "source": [
    "carsh = h2o.H2OFrame(cars)"
   ]
  },
  {
   "cell_type": "code",
   "execution_count": 45,
   "metadata": {},
   "outputs": [],
   "source": [
    "train, test = carsh.split_frame()"
   ]
  },
  {
   "cell_type": "code",
   "execution_count": 46,
   "metadata": {},
   "outputs": [
    {
     "output_type": "display_data",
     "data": {
      "text/html": "<table>\n<thead>\n<tr><th style=\"text-align: right;\">   KM</th><th style=\"text-align: right;\">  bouwjaar</th><th style=\"text-align: right;\">  Prijs</th><th>Transmissie   </th><th>Merk   </th><th>Model  </th><th style=\"text-align: right;\">  Motor</th><th>Brandstof  </th><th style=\"text-align: right;\">  ouderdom</th></tr>\n</thead>\n<tbody>\n<tr><td style=\"text-align: right;\">12865</td><td style=\"text-align: right;\">      2013</td><td style=\"text-align: right;\">   7250</td><td>Handgeschakeld</td><td>Peugeot</td><td>107    </td><td style=\"text-align: right;\">    998</td><td>Benzine    </td><td style=\"text-align: right;\">         4</td></tr>\n<tr><td style=\"text-align: right;\"> 4620</td><td style=\"text-align: right;\">      2016</td><td style=\"text-align: right;\">  11339</td><td>Handgeschakeld</td><td>Peugeot</td><td>108    </td><td style=\"text-align: right;\">    998</td><td>Benzine    </td><td style=\"text-align: right;\">         1</td></tr>\n<tr><td style=\"text-align: right;\">  198</td><td style=\"text-align: right;\">      2003</td><td style=\"text-align: right;\">   1275</td><td>Handgeschakeld</td><td>Ford   </td><td>Focus  </td><td style=\"text-align: right;\">   1388</td><td>Benzine    </td><td style=\"text-align: right;\">        14</td></tr>\n<tr><td style=\"text-align: right;\">  451</td><td style=\"text-align: right;\">      2016</td><td style=\"text-align: right;\">  17144</td><td>Handgeschakeld</td><td>Ford   </td><td>Fiesta </td><td style=\"text-align: right;\">   1499</td><td>Diesel     </td><td style=\"text-align: right;\">         1</td></tr>\n<tr><td style=\"text-align: right;\">  999</td><td style=\"text-align: right;\">      2015</td><td style=\"text-align: right;\">  29995</td><td>Automaat      </td><td>Ford   </td><td>C-Max  </td><td style=\"text-align: right;\">   1999</td><td>Anders     </td><td style=\"text-align: right;\">         2</td></tr>\n</tbody>\n</table>"
     },
     "metadata": {}
    },
    {
     "output_type": "execute_result",
     "data": {
      "text/plain": ""
     },
     "metadata": {},
     "execution_count": 46
    }
   ],
   "source": [
    "train.head(5)"
   ]
  },
  {
   "cell_type": "markdown",
   "metadata": {},
   "source": [
    "### Just lazy, turn on autoML"
   ]
  },
  {
   "cell_type": "code",
   "execution_count": 47,
   "metadata": {},
   "outputs": [],
   "source": [
    "aml = H2OAutoML(max_runtime_secs = 30)"
   ]
  },
  {
   "cell_type": "code",
   "execution_count": 48,
   "metadata": {},
   "outputs": [
    {
     "output_type": "stream",
     "name": "stdout",
     "text": "AutoML progress: |\n21:32:54.683: User specified a validation frame with cross-validation still enabled. Please note that the models will still be validated using cross-validation only, the validation frame will be used to provide purely informative validation metrics on the trained models.\n\n████████████████████████████████████████████████████████| 100%\n"
    }
   ],
   "source": [
    "aml.train(\n",
    "    y = \"Prijs\",\n",
    "    x = [\"ouderdom\", \"KM\"],\n",
    "    training_frame = train,\n",
    "    validation_frame = test\n",
    ")"
   ]
  },
  {
   "cell_type": "markdown",
   "metadata": {},
   "source": [
    "### dump winner model to mojo"
   ]
  },
  {
   "cell_type": "code",
   "execution_count": 54,
   "metadata": {},
   "outputs": [],
   "source": [
    "modelfile = aml.leader.download_mojo(path=\".\", get_genmodel_jar=True)"
   ]
  },
  {
   "cell_type": "code",
   "execution_count": 49,
   "metadata": {},
   "outputs": [
    {
     "output_type": "display_data",
     "data": {
      "text/html": "<table>\n<thead>\n<tr><th>model_id                                           </th><th style=\"text-align: right;\">  mean_residual_deviance</th><th style=\"text-align: right;\">   rmse</th><th style=\"text-align: right;\">        mse</th><th style=\"text-align: right;\">     mae</th><th style=\"text-align: right;\">     rmsle</th></tr>\n</thead>\n<tbody>\n<tr><td>StackedEnsemble_AllModels_AutoML_20200426_213254   </td><td style=\"text-align: right;\">             4.36915e+08</td><td style=\"text-align: right;\">20902.5</td><td style=\"text-align: right;\">4.36915e+08</td><td style=\"text-align: right;\"> 8212.61</td><td style=\"text-align: right;\">  0.703241</td></tr>\n<tr><td>StackedEnsemble_BestOfFamily_AutoML_20200426_213254</td><td style=\"text-align: right;\">             4.38289e+08</td><td style=\"text-align: right;\">20935.3</td><td style=\"text-align: right;\">4.38289e+08</td><td style=\"text-align: right;\"> 8192.48</td><td style=\"text-align: right;\">  0.700179</td></tr>\n<tr><td>DeepLearning_1_AutoML_20200426_213254              </td><td style=\"text-align: right;\">             4.69795e+08</td><td style=\"text-align: right;\">21674.8</td><td style=\"text-align: right;\">4.69795e+08</td><td style=\"text-align: right;\"> 8161.79</td><td style=\"text-align: right;\">nan       </td></tr>\n<tr><td>GBM_3_AutoML_20200426_213254                       </td><td style=\"text-align: right;\">             5.35291e+08</td><td style=\"text-align: right;\">23136.4</td><td style=\"text-align: right;\">5.35291e+08</td><td style=\"text-align: right;\">11438.5 </td><td style=\"text-align: right;\">  1.18275 </td></tr>\n<tr><td>GBM_2_AutoML_20200426_213254                       </td><td style=\"text-align: right;\">             5.37657e+08</td><td style=\"text-align: right;\">23187.4</td><td style=\"text-align: right;\">5.37657e+08</td><td style=\"text-align: right;\">11525.2 </td><td style=\"text-align: right;\">  1.18944 </td></tr>\n<tr><td>GBM_4_AutoML_20200426_213254                       </td><td style=\"text-align: right;\">             5.38523e+08</td><td style=\"text-align: right;\">23206.1</td><td style=\"text-align: right;\">5.38523e+08</td><td style=\"text-align: right;\">11526.3 </td><td style=\"text-align: right;\">  1.18925 </td></tr>\n<tr><td>GBM_5_AutoML_20200426_213254                       </td><td style=\"text-align: right;\">             5.38592e+08</td><td style=\"text-align: right;\">23207.6</td><td style=\"text-align: right;\">5.38592e+08</td><td style=\"text-align: right;\">11528   </td><td style=\"text-align: right;\">  1.18936 </td></tr>\n<tr><td>GBM_1_AutoML_20200426_213254                       </td><td style=\"text-align: right;\">             5.41556e+08</td><td style=\"text-align: right;\">23271.4</td><td style=\"text-align: right;\">5.41556e+08</td><td style=\"text-align: right;\">11634.6 </td><td style=\"text-align: right;\">  1.19762 </td></tr>\n<tr><td>GLM_1_AutoML_20200426_213254                       </td><td style=\"text-align: right;\">             5.60873e+08</td><td style=\"text-align: right;\">23682.8</td><td style=\"text-align: right;\">5.60873e+08</td><td style=\"text-align: right;\">12152.5 </td><td style=\"text-align: right;\">  1.23359 </td></tr>\n<tr><td>XGBoost_2_AutoML_20200426_213254                   </td><td style=\"text-align: right;\">             6.31619e+08</td><td style=\"text-align: right;\">25132  </td><td style=\"text-align: right;\">6.31619e+08</td><td style=\"text-align: right;\">11517   </td><td style=\"text-align: right;\">  1.14732 </td></tr>\n</tbody>\n</table>"
     },
     "metadata": {}
    },
    {
     "output_type": "execute_result",
     "data": {
      "text/plain": ""
     },
     "metadata": {},
     "execution_count": 49
    }
   ],
   "source": [
    "aml.leaderboard"
   ]
  },
  {
   "cell_type": "code",
   "execution_count": 32,
   "metadata": {},
   "outputs": [],
   "source": [
    "perf = aml.leader.model_performance(test)"
   ]
  },
  {
   "cell_type": "code",
   "execution_count": 33,
   "metadata": {},
   "outputs": [
    {
     "output_type": "stream",
     "name": "stdout",
     "text": "\nModelMetricsRegressionGLM: stackedensemble\n** Reported on test data. **\n\nMSE: 495401577.72121614\nRMSE: 22257.618419795414\nMAE: 8321.435026980478\nRMSLE: 0.7082577129686142\nR^2: 0.2092245177908143\nMean Residual Deviance: 495401577.72121614\nNull degrees of freedom: 108969\nResidual degrees of freedom: 108960\nNull deviance: 68269864677839.06\nResidual deviance: 53983909924280.92\nAIC: 2490940.676862295\n"
    },
    {
     "output_type": "execute_result",
     "data": {
      "text/plain": ""
     },
     "metadata": {},
     "execution_count": 33
    }
   ],
   "source": [
    "perf"
   ]
  },
  {
   "cell_type": "code",
   "execution_count": 55,
   "metadata": {},
   "outputs": [
    {
     "output_type": "execute_result",
     "data": {
      "text/plain": "'/Users/lamlon/Documents/Personal/Projects/cars_model/StackedEnsemble_AllModels_AutoML_20200426_213254.zip'"
     },
     "metadata": {},
     "execution_count": 55
    }
   ],
   "source": [
    "modelfile"
   ]
  },
  {
   "cell_type": "code",
   "execution_count": 38,
   "metadata": {},
   "outputs": [
    {
     "output_type": "stream",
     "name": "stdout",
     "text": "H2O session _sid_92bf closed.\n"
    }
   ],
   "source": [
    "h2o.shutdown()"
   ]
  },
  {
   "cell_type": "markdown",
   "metadata": {},
   "source": [
    "## Score using mojo"
   ]
  },
  {
   "cell_type": "code",
   "execution_count": 56,
   "metadata": {},
   "outputs": [
    {
     "output_type": "execute_result",
     "data": {
      "text/plain": "   ouderdom     KM\n0         1   2000\n1         3  40000",
      "text/html": "<div>\n<style scoped>\n    .dataframe tbody tr th:only-of-type {\n        vertical-align: middle;\n    }\n\n    .dataframe tbody tr th {\n        vertical-align: top;\n    }\n\n    .dataframe thead th {\n        text-align: right;\n    }\n</style>\n<table border=\"1\" class=\"dataframe\">\n  <thead>\n    <tr style=\"text-align: right;\">\n      <th></th>\n      <th>ouderdom</th>\n      <th>KM</th>\n    </tr>\n  </thead>\n  <tbody>\n    <tr>\n      <th>0</th>\n      <td>1</td>\n      <td>2000</td>\n    </tr>\n    <tr>\n      <th>1</th>\n      <td>3</td>\n      <td>40000</td>\n    </tr>\n  </tbody>\n</table>\n</div>"
     },
     "metadata": {},
     "execution_count": 56
    }
   ],
   "source": [
    "mycars = pd.DataFrame({\"ouderdom\":[1,3], \"KM\":[2000, 40000]})\n",
    "mycars"
   ]
  },
  {
   "cell_type": "code",
   "execution_count": 57,
   "metadata": {},
   "outputs": [
    {
     "output_type": "execute_result",
     "data": {
      "text/plain": "        predict\n0  34985.790999\n1  22556.508331",
      "text/html": "<div>\n<style scoped>\n    .dataframe tbody tr th:only-of-type {\n        vertical-align: middle;\n    }\n\n    .dataframe tbody tr th {\n        vertical-align: top;\n    }\n\n    .dataframe thead th {\n        text-align: right;\n    }\n</style>\n<table border=\"1\" class=\"dataframe\">\n  <thead>\n    <tr style=\"text-align: right;\">\n      <th></th>\n      <th>predict</th>\n    </tr>\n  </thead>\n  <tbody>\n    <tr>\n      <th>0</th>\n      <td>34985.790999</td>\n    </tr>\n    <tr>\n      <th>1</th>\n      <td>22556.508331</td>\n    </tr>\n  </tbody>\n</table>\n</div>"
     },
     "metadata": {},
     "execution_count": 57
    }
   ],
   "source": [
    "h2o.mojo_predict_pandas(mycars,mojo_zip_path = modelfile)"
   ]
  }
 ],
 "metadata": {
  "language_info": {
   "codemirror_mode": {
    "name": "ipython",
    "version": 3
   },
   "file_extension": ".py",
   "mimetype": "text/x-python",
   "name": "python",
   "nbconvert_exporter": "python",
   "pygments_lexer": "ipython3",
   "version": "3.7.3-final"
  },
  "orig_nbformat": 2,
  "kernelspec": {
   "name": "python37364bitbaseconda237d47ed00c34faa8bb5ab0c5c219e3a",
   "display_name": "Python 3.7.3 64-bit ('base': conda)"
  }
 },
 "nbformat": 4,
 "nbformat_minor": 2
}